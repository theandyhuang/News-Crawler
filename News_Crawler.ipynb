{
  "nbformat": 4,
  "nbformat_minor": 0,
  "metadata": {
    "colab": {
      "provenance": [],
      "authorship_tag": "ABX9TyPdd3NvEAgTQjjLtRfBW3rI",
      "include_colab_link": true
    },
    "kernelspec": {
      "name": "python3",
      "display_name": "Python 3"
    },
    "language_info": {
      "name": "python"
    },
    "accelerator": "GPU",
    "gpuClass": "standard"
  },
  "cells": [
    {
      "cell_type": "markdown",
      "metadata": {
        "id": "view-in-github",
        "colab_type": "text"
      },
      "source": [
        "<a href=\"https://colab.research.google.com/github/theandyhuang/News-Crawler/blob/main/News_Crawler.ipynb\" target=\"_parent\"><img src=\"https://colab.research.google.com/assets/colab-badge.svg\" alt=\"Open In Colab\"/></a>"
      ]
    },
    {
      "cell_type": "code",
      "execution_count": null,
      "metadata": {
        "id": "n3EgMayDgyMJ"
      },
      "outputs": [],
      "source": [
        "import requests\n",
        "from bs4 import BeautifulSoup\n",
        "\n",
        "# 利用 requests 對 API 來源發送一個請求\n",
        "response = requests.get('https://udn.com/news/breaknews/1')\n",
        "soup = BeautifulSoup(response.text)\n",
        "\n",
        "'''\n",
        "Your Code # 定義變數名稱\n",
        "'''\n",
        "for link in soup.find_all('h3', class_='rounded-thumb__title')[:4]:\n",
        "  news_url = link.a['href']\n",
        "  news_response = requests.get('https://udn.com' + news_url)\n",
        "  news_soup = BeautifulSoup(news_response.text)\n",
        "  news_content = news_soup.find('div', class_='article-content__paragraph').text.strip().replace('\\n', ' ')\n",
        "  '''\n",
        "  Your Code\n",
        "  '''"
      ]
    },
    {
      "cell_type": "code",
      "source": [
        "import requests\n",
        "from bs4 import BeautifulSoup\n",
        "\n",
        "# 利用 requests 對 API 來源發送一個請求\n",
        "response = requests.get('https://udn.com/news/breaknews/1')\n",
        "soup = BeautifulSoup(response.text)"
      ],
      "metadata": {
        "id": "EGRBrdSnhbQ_"
      },
      "execution_count": 1,
      "outputs": []
    },
    {
      "cell_type": "code",
      "source": [
        "print(soup)"
      ],
      "metadata": {
        "id": "zKM1_kOshnHR"
      },
      "execution_count": null,
      "outputs": []
    },
    {
      "cell_type": "code",
      "source": [
        "news = []\n",
        "\n",
        "for link in soup.find_all('h3', class_='rounded-thumb__title')[:4]:\n",
        "  news_url = link.a['href']\n",
        "  news_response = requests.get('https://udn.com' + news_url)\n",
        "  news_soup = BeautifulSoup(news_response.text, \"html.parser\")\n",
        "  news_content = news_soup.find('div', class_='article-content__paragraph').text.strip().replace('\\n', ' ')\n",
        "  news.append(news_content)"
      ],
      "metadata": {
        "id": "DX0dD0iMklC1"
      },
      "execution_count": 9,
      "outputs": []
    },
    {
      "cell_type": "code",
      "source": [
        "print(news)"
      ],
      "metadata": {
        "colab": {
          "base_uri": "https://localhost:8080/"
        },
        "id": "MNwbx-g8knGz",
        "outputId": "14e92039-137e-47d1-8e73-ceb961db9de0"
      },
      "execution_count": 10,
      "outputs": [
        {
          "output_type": "stream",
          "name": "stdout",
          "text": [
            "['家裡突然出現沒買過的蔬菜應該不少人會相當驚恐。一名網友某天回家發現自己買的西瓜不見了，取而代之是一顆高麗菜擺在原來的位置，仔細端詳才發現這顆高麗菜根本不是高麗菜，而是買回來的西瓜被貪吃的寵物兔啃了一千多口的結果。 \\r 綜合陸媒報導，大陸一名網友「覓鯨」日前貼出幾張照片，表示自己買了一顆大西瓜回家，本來要準備殺來吃，結果凌晨下班回家發現西瓜不見了，取而代之是一顆超大的高麗菜，他仔細看一下才發現那顆高麗菜根本不是高麗菜，而是被自己飼養的寵物兔啃咬了一千多口的西瓜。            \\r 從照片可以看到，原本渾圓的西瓜外皮全都不見了，只留下白色的西瓜邊被咬的坑坑洞洞，完全看不到有紅色的果肉露出來。照片曝光後吸引不少網友討論，網友留言表示「西瓜咬成了苦瓜」、「兔子啃了一千多口都沒吃到瓜肉，真慘」、「可能這隻兔兔就是喜歡吃瓜皮」、「真的好像一棵高麗菜，根本不像西瓜」。  把西瓜啃成高麗菜的「現行犯」兔兔還搞不清楚狀況搖頭晃腦中。 (圖/取自微博)       西瓜 高麗菜 兔兔                  春天帶毛孩賞花郊遊去～分享照片就有機會獲得超萌寵物小物！\\r 點我前往：https://reurl.cc/WDV0Yy', '中國信託金融控股公司創辦人辜濓松夫人辜林瑞慧女士今（14）日上午11時許，於家中安詳辭世，四位子女及孫子女皆隨侍在側，享壽83歲。辜林瑞慧女士為虔誠的基督徒，生前交代後事從簡，家屬遵從遺願，將於家中辦理追思儀式，不另行舉辦公祭。    中國信託金融控股', '疫情渡過幾年後旅遊業終於開始復甦，日本自4月5日起再放寬防疫措施，讓已接種至少三劑疫苗的中國遊客可以無需陰性證明入境。日本的經濟在疫情下受到打擊，不少商家都希望中國旅客能回歸爆買。但有飯店經理竟然表示希望他們不要來！ \\r 中國旅客的爆買在疫情前長期佔日本旅客消費總額接近一半，是對日本旅遊觀光業不可或缺的族群。4月5日起放寬的措施已經吸引不少中國旅客前往，有來自大陸的遊客就表示入境方便了很多，相信接下來中國旅客的人數將會暴增。            \\r 旅客人數回升，商家們應該會很開心吧！但日媒《FNN》訪問大阪道頓堀飯店的銷售經理顧萍時，她卻表示他們不得不拒絕中國旅客的到來。原來他們飯店的住客有約7成是外國人，而現在入住率亦已經超過90%，實在已經沒有房間招待更多住客。 \\r 據日本觀光廳指，今年訪日的外國旅客人數是去年1月的29倍。當中不少南韓、香港及歐美等地的遊客已經讓飯店爆滿，若再加上來自中國大陸的旅客情況就會更加嚴重。 \\r 道頓堀飯店集團在中國旅行網站上販售能更容易取得預約的「宿泊預約券」後亦吸引大量顧客，3個星期內便大賺4,339萬2千日圓（約新台幣991萬元）。顧萍就表示，如果可以的話希望中國旅客能在6月或7月時再來日本，對他們來說會比較有利。雖然爆買的人潮捲土重來，但觀光地卻沒有足夠設施及人手接待所有人，還真是奢侈的煩惱啊。  日媒《FNN》訪問大阪道頓堀飯店的銷售經理顧萍時，她卻表示他們不得不拒絕中國旅客的到來。圖／YouTube截圖  延伸閱讀： 旅遊日本｜15萬港人1月訪日回升至2019水平 十個遊客一個港人 春節解封中國客遊日本爆買2500萬日圓 日本老闆：中國人是唯一依靠！\\r 文章授權轉載自《香港01》    日本 觀光 陸客', '婆媳關係是許多家庭難解的問題，一名女網友就透露從四川嫁過來的小嬸，曾有一次被婆婆要求準備三牲祭祖，但婆婆沒有協助幫忙就自行出門，結果小嬸煮了好幾道菜端上供桌，婆婆回來後一看很傻眼，反而女網友心中竊喜「不要惹四川來的姑娘」。 \\r 女網友在臉書「毒姑九賤婆媳討論區」寫道，小嬸是從四川嫁來台灣，剛嫁進來的第一年，在某一個需要祭祖的節日，婆婆告訴小嬸說「明天中午要拜拜，妳明天就準備三牲祭拜，包括雞、豬、魚、幾樣菜、水果等」，婆婆把祭祖一事全丟給小嬸做，也不幫忙，交代完後就出門了。            \\r 原PO說快中午時婆婆回來，看到樓上神明廳桌前擺滿了許多道菜，有水煮魚、宮保雞丁、回鍋肉、魚香茄子、麻婆豆腐、辣炒高麗菜，但因為婆家的人都不吃辣，就連胡椒粉都不能接受，因此當小嬸端出這幾道菜，讓原PO看了大讚「這是我覺得最讚的一次祭祖食物了，千萬不要惹四川來的姑娘」。 \\r 貼文也讓眾人看了大呼過癮，「覺得小嬸很不錯」、「聽了都覺得太棒了，超想看婆婆反應」、「婆婆的臉綠了」、「沒辦法吃辣就自己準備呀」、「要別人做，就要順從別人的想法做法，這是將心比心做人最基本尊重。別人沒辛勞，至少也有苦勞」、「我覺得祖先搞不好一片叫好，之前都吃膩了」、「到底憑什麼這種事都甩手給媳婦做啊？同姓的都可以出門爽」、「這個逆襲幹得好」。    婆婆 媳婦']\n"
          ]
        }
      ]
    },
    {
      "cell_type": "code",
      "source": [
        "# 安裝 jieba 中文斷詞套件\n",
        "!pip install jieba \n",
        "\n",
        "# 下載官方字典檔\n",
        "!wget https://raw.githubusercontent.com/fxsjy/jieba/master/extra_dict/dict.txt.big\n",
        "\n",
        "\n",
        "# 載入套件與字典檔\n",
        "import jieba\n",
        "jieba.load_userdict(\"dict.txt.big\")"
      ],
      "metadata": {
        "colab": {
          "base_uri": "https://localhost:8080/"
        },
        "id": "zOAybaDxmkFB",
        "outputId": "fecd4589-6f71-43e7-a84f-d1b99ecd5069"
      },
      "execution_count": 11,
      "outputs": [
        {
          "output_type": "stream",
          "name": "stdout",
          "text": [
            "Looking in indexes: https://pypi.org/simple, https://us-python.pkg.dev/colab-wheels/public/simple/\n",
            "Requirement already satisfied: jieba in /usr/local/lib/python3.9/dist-packages (0.42.1)\n",
            "--2023-04-15 06:29:11--  https://raw.githubusercontent.com/fxsjy/jieba/master/extra_dict/dict.txt.big\n",
            "Resolving raw.githubusercontent.com (raw.githubusercontent.com)... 185.199.108.133, 185.199.109.133, 185.199.110.133, ...\n",
            "Connecting to raw.githubusercontent.com (raw.githubusercontent.com)|185.199.108.133|:443... connected.\n",
            "HTTP request sent, awaiting response... 200 OK\n",
            "Length: 8583143 (8.2M) [text/plain]\n",
            "Saving to: ‘dict.txt.big’\n",
            "\n",
            "dict.txt.big        100%[===================>]   8.18M  --.-KB/s    in 0.05s   \n",
            "\n",
            "2023-04-15 06:29:12 (163 MB/s) - ‘dict.txt.big’ saved [8583143/8583143]\n",
            "\n"
          ]
        },
        {
          "output_type": "stream",
          "name": "stderr",
          "text": [
            "Building prefix dict from the default dictionary ...\n",
            "DEBUG:jieba:Building prefix dict from the default dictionary ...\n",
            "Dumping model to file cache /tmp/jieba.cache\n",
            "DEBUG:jieba:Dumping model to file cache /tmp/jieba.cache\n",
            "Loading model cost 0.727 seconds.\n",
            "DEBUG:jieba:Loading model cost 0.727 seconds.\n",
            "Prefix dict has been built successfully.\n",
            "DEBUG:jieba:Prefix dict has been built successfully.\n"
          ]
        }
      ]
    }
  ]
}